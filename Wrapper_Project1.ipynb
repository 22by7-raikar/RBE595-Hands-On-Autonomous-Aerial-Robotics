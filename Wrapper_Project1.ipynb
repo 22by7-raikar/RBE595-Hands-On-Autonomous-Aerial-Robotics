{
  "nbformat": 4,
  "nbformat_minor": 0,
  "metadata": {
    "colab": {
      "provenance": []
    },
    "kernelspec": {
      "name": "python3",
      "display_name": "Python 3"
    },
    "language_info": {
      "name": "python"
    }
  },
  "cells": [
    {
      "cell_type": "code",
      "execution_count": 2,
      "metadata": {
        "colab": {
          "base_uri": "https://localhost:8080/"
        },
        "id": "ZDh8KSKuEUs6",
        "outputId": "7302b029-1e1c-4f8b-bf2b-c9bff165c407"
      },
      "outputs": [
        {
          "output_type": "stream",
          "name": "stdout",
          "text": [
            "Mounted at /content/drive\n"
          ]
        }
      ],
      "source": [
        "from google.colab import drive\n",
        "drive.mount('/content/drive')"
      ]
    },
    {
      "cell_type": "code",
      "source": [
        "from scipy import io\n",
        "from scipy.spatial.transform import Rotation as R\n",
        "import numpy as np\n",
        "import matplotlib.pyplot as plt\n",
        "from matplotlib.animation import FuncAnimation\n",
        "import sys\n",
        "sys.path.append(\"/content/drive/MyDrive/WPI/NJS-Autonomous-Aerial-Vehicles/sbachimanchi_p0/Phase1\")\n",
        "\n",
        "from rotplot import rotplot"
      ],
      "metadata": {
        "id": "LqlHr4E8VfYT"
      },
      "execution_count": 3,
      "outputs": []
    },
    {
      "cell_type": "code",
      "source": [
        "# Loading Accelerometer bias and scale Data\n",
        "params = io.loadmat(\"/content/drive/MyDrive/WPI/NJS-Autonomous-Aerial-Vehicles/sbachimanchi_p0/Phase1/IMUParams.mat\")\n",
        "s = params['IMUParams'][0]\n",
        "ba = params['IMUParams'][1]"
      ],
      "metadata": {
        "id": "f0ovRKyTZZ_0"
      },
      "execution_count": 4,
      "outputs": []
    },
    {
      "cell_type": "code",
      "source": [
        "# Loading Vicon Data\n",
        "vicon1_data = io.loadmat(\"/content/drive/MyDrive/WPI/NJS-Autonomous-Aerial-Vehicles/sbachimanchi_p0/Phase1/Data/Train/Vicon/viconRot1.mat\")\n",
        "# (\"/content/drive/MyDrive/WPI/NJS-Autonomous-Aerial-Vehicles/sbachimanchi_p0/Phase1/Data/Train/Vicon/viconRot2.mat\")\n",
        "# (\"/content/drive/MyDrive/WPI/NJS-Autonomous-Aerial-Vehicles/sbachimanchi_p0/Phase1/Data/Train/Vicon/viconRot3.mat\")\n",
        "# (\"/content/drive/MyDrive/WPI/NJS-Autonomous-Aerial-Vehicles/sbachimanchi_p0/Phase1/Data/Train/Vicon/viconRot4.mat\")\n",
        "# (\"/content/drive/MyDrive/WPI/NJS-Autonomous-Aerial-Vehicles/sbachimanchi_p0/Phase1/Data/Train/Vicon/viconRot5.mat\")\n",
        "# (\"/content/drive/MyDrive/WPI/NJS-Autonomous-Aerial-Vehicles/sbachimanchi_p0/Phase1/Data/Train/Vicon/viconRot6.mat\")\n",
        "rots1 = vicon1_data['rots'] # 3 x 3 x 5561 Data\n",
        "ts_vicon1 = vicon1_data['ts'] # 1 x 5561 Data\n",
        "rots_reshaped1 = rots1.transpose(2,0,1).reshape(rots1.shape[2],3,3) # 5561 x 3 x 3 Data\n",
        "euler_angles_vicon1 = np.zeros((3,rots1.shape[2])) # 3 x 5561 Data\n",
        "\n",
        "for i in range(rots1.shape[2]):\n",
        "  R = rots_reshaped1[i]\n",
        "  z1 = np.arctan2(R[1,0],R[0,0]) # Yaw\n",
        "  y1 = np.arctan2(-R[2,0], np.sqrt(R[0,0]**2 + R[1,0]**2))#np.arcsin(R[2,0])         # Pitch\n",
        "  x1 = np.arctan2(R[2,1],R[2,2]) # Roll\n",
        "  euler_angles_vicon1[:,i] = [z1,y1,x1]\n",
        "\n",
        "z_vicon1 = euler_angles_vicon1[0,:][:,np.newaxis]\n",
        "y_vicon1 = euler_angles_vicon1[1,:][:,np.newaxis]\n",
        "x_vicon1 = euler_angles_vicon1[2,:][:,np.newaxis]\n"
      ],
      "metadata": {
        "id": "JM_5DfUYZeQg"
      },
      "execution_count": 5,
      "outputs": []
    },
    {
      "cell_type": "code",
      "source": [
        "# Reading the Data\n",
        "imu1_data = io.loadmat(\"/content/drive/MyDrive/WPI/NJS-Autonomous-Aerial-Vehicles/sbachimanchi_p0/Phase1/Data/Train/IMU/imuRaw1.mat\")\n",
        "# (\"/content/drive/MyDrive/WPI/NJS-Autonomous-Aerial-Vehicles/sbachimanchi_p0/Phase1/Data/Train/IMU/imuRaw2.mat\")\n",
        "# (\"/content/drive/MyDrive/WPI/NJS-Autonomous-Aerial-Vehicles/sbachimanchi_p0/Phase1/Data/Train/IMU/imuRaw3.mat\")\n",
        "# (\"/content/drive/MyDrive/WPI/NJS-Autonomous-Aerial-Vehicles/sbachimanchi_p0/Phase1/Data/Train/IMU/imuRaw4.mat\")\n",
        "# (\"/content/drive/MyDrive/WPI/NJS-Autonomous-Aerial-Vehicles/sbachimanchi_p0/Phase1/Data/Train/IMU/imuRaw5.mat\")\n",
        "# (\"/content/drive/MyDrive/WPI/NJS-Autonomous-Aerial-Vehicles/sbachimanchi_p0/Phase1/Data/Train/IMU/imuRaw6.mat\")\n",
        "vals1 = imu1_data['vals'] # Raw Data\n",
        "ts_imu1 = imu1_data['ts']\n",
        "ax1 = vals1[0,:]\n",
        "ay1 = vals1[1,:]\n",
        "az1 = vals1[2,:]\n",
        "wz1 = vals1[3,:]\n",
        "wx1 = vals1[4,:]\n",
        "wy1 = vals1[5,:]\n",
        "# ax_new1 = (ax1 + ba[0])/s[0]\n",
        "# ay_new1 = (ay1 + ba[1])/s[1]\n",
        "# az_new1 = (az1 + ba[2])/s[2]\n",
        "ax_new1 = (ax1*s[0] + ba[0])*9.8\n",
        "ay_new1 = (ay1*s[1] + ba[1])*9.8\n",
        "az_new1 = (az1*s[2] + ba[2])*9.8\n",
        "samples1 = 500\n",
        "bgz1 = np.mean(wz1[:samples1])\n",
        "bgx1 = np.mean(wx1[:samples1])\n",
        "bgy1 = np.mean(wy1[:samples1])\n",
        "wz_new1 = (3300/1023)*(np.pi/180)*0.3*(wz1-bgz1)\n",
        "wx_new1 = (3300/1023)*(np.pi/180)*0.3*(wx1-bgx1)\n",
        "wy_new1 = (3300/1023)*(np.pi/180)*0.3*(wy1-bgy1)\n",
        "vals_new1 = np.row_stack((ax_new1, ay_new1, az_new1, wz_new1, wx_new1, wy_new1)) # 6x5645 Data in SI Units\n",
        "w_new1 = np.row_stack((wz_new1, wx_new1, wy_new1)) # 3 x 5645 Angular Velocity Data in SI Units\n",
        "a_new1 = np.row_stack((ax_new1, ay_new1, az_new1)) # 3 x 5645 Angular Velocity Data in SI Units"
      ],
      "metadata": {
        "id": "ehMWZDKaZqfu"
      },
      "execution_count": 6,
      "outputs": []
    },
    {
      "cell_type": "code",
      "source": [
        "# Function for orientation based on Gyro Data\n",
        "def orientation_gyro(euler_angles_initial, angular_velocity, time):\n",
        "  orientation = np.zeros((3,angular_velocity.shape[1]))\n",
        "  orientation[:,0][:,np.newaxis] = euler_angles_initial\n",
        "  for i in range(1, angular_velocity.shape[1]):\n",
        "    orientation[:,i] = orientation[:,i-1] + angular_velocity[:,i]*(time[:,i]-time[:,i-1])\n",
        "  return orientation\n"
      ],
      "metadata": {
        "id": "WtLqm_68ZuTF"
      },
      "execution_count": 7,
      "outputs": []
    },
    {
      "cell_type": "code",
      "source": [
        "# Function for orientation based on Accelerometer Data\n",
        "def orientation_accelero(acc_data):\n",
        "  ax = (a_new1[0,:]) # Roll\n",
        "  ay = (a_new1[1,:]) # Pitch\n",
        "  az = (a_new1[2,:]) # Yaw\n",
        "  psi = np.arctan2(np.sqrt(ax**2 + ay**2),az) # Yaw\n",
        "  theta = np.arctan2(-ax,np.sqrt(ay**2 + az**2)) # Pitch\n",
        "  phi = np.arctan2(ay,np.sqrt(ax**2 + az**2)) # Roll\n",
        "  orientation = np.row_stack((psi, theta, phi))\n",
        "  return orientation"
      ],
      "metadata": {
        "id": "2j82SaXSZwy-"
      },
      "execution_count": 8,
      "outputs": []
    },
    {
      "cell_type": "code",
      "source": [
        "# Function for simple complementary filter\n",
        "def complementary_filter(gyro_orientation, accelero_orientation, time, alpha):\n",
        "  filtered_orientation = np.zeros((3,gyro_orientation.shape[1]))\n",
        "\n",
        "  # High pass filter for gyro orientation\n",
        "  high_pass_filtered_data = np.zeros((3,gyro_orientation.shape[1]))\n",
        "  high_pass_filtered_data[:,0] = gyro_orientation[:,0]\n",
        "  for i in range(1, gyro_orientation.shape[1]):\n",
        "    high_pass_filtered_data[:,i] = ((1-alpha)*high_pass_filtered_data[:,i-1]) + ((1-alpha)*(gyro_orientation[:,i]-gyro_orientation[:,i-1]))\n",
        "\n",
        "  # Low pass filter for accelero orientation\n",
        "  low_pass_filtered_data = np.zeros((3,accelero_orientation.shape[1]))\n",
        "  low_pass_filtered_data[:,0] = accelero_orientation[:,0]\n",
        "  for i in range(1, accelero_orientation.shape[1]):\n",
        "    low_pass_filtered_data[:,i] = ((1-alpha)*accelero_orientation[:,i]) + (alpha*low_pass_filtered_data[:,i-1])\n",
        "\n",
        "  filtered_orientation = (1-0.7)*high_pass_filtered_data + 0.7*low_pass_filtered_data\n",
        "\n",
        "  return filtered_orientation"
      ],
      "metadata": {
        "id": "Nyl3QsFMZ0pU"
      },
      "execution_count": 9,
      "outputs": []
    },
    {
      "cell_type": "code",
      "source": [
        "# Function for converting ZYX euler angles into Quaternion\n",
        "def ZYXeuler_quaternion(yaw, pitch,roll):\n",
        "    cr = np.cos(roll * 0.5)\n",
        "    sr = np.sin(roll * 0.5)\n",
        "    cp = np.cos(pitch * 0.5)\n",
        "    sp = np.sin(pitch * 0.5)\n",
        "    cy = np.cos(yaw * 0.5)\n",
        "    sy = np.sin(yaw * 0.5)\n",
        "\n",
        "    qw = cy * cp * cr + sy * sp * sr\n",
        "    qx = cy * cp * sr - sy * sp * cr\n",
        "    qy = sy * cp * sr + cy * sp * cr\n",
        "    qz = sy * cp * cr - cy * sp * sr\n",
        "\n",
        "    return np.array([qw, qx, qy, qz])"
      ],
      "metadata": {
        "id": "TdzZztm5Z31F"
      },
      "execution_count": 10,
      "outputs": []
    },
    {
      "cell_type": "code",
      "source": [
        "# Function for Quarternion Multiplication\n",
        "def quaternion_multiplication(q1, q2):\n",
        "    w1, x1, y1, z1 = q1\n",
        "    w2, x2, y2, z2 = q2\n",
        "\n",
        "    w = w1*w2 - x1*x2 - y1*y2 - z1*z2\n",
        "    x = w1*x2 + x1*w2 + y1*z2 - z1*y2\n",
        "    y = w1*y2 - x1*z2 + y1*w2 + z1*x2\n",
        "    z = w1*z2 + x1*y2 - y1*x2 + z1*w2\n",
        "\n",
        "    return np.array([w, x, y, z])"
      ],
      "metadata": {
        "id": "9yp3oYsVM5UC"
      },
      "execution_count": 46,
      "outputs": []
    },
    {
      "cell_type": "code",
      "source": [
        "# Function for Normalized Vector calculation\n",
        "def normalized_vector(x):\n",
        "  norm_x = x/np.linalg.norm(x)\n",
        "  return norm_x"
      ],
      "metadata": {
        "id": "VT3tlEobhJwH"
      },
      "execution_count": 55,
      "outputs": []
    },
    {
      "cell_type": "code",
      "source": [
        "# Orientation increment from Gyro Data\n",
        "# euler_angles_initial = euler_angles_vicon1[:,0][:,np.newaxis]\n",
        "# initial_z = euler_angles_initial[0]\n",
        "# initial_y = euler_angles_initial[1]\n",
        "# initial_x = euler_angles_initial[2]\n",
        "\n",
        "# orientation_gyroscope_quat = ZYXeuler_quaternion(initial_z,initial_y,initial_x)\n",
        "\n",
        "# orientation_gyroscope = orientation_gyro(euler_angles_initial,w_new1,ts_imu1)\n",
        "# z_gyro = orientation_gyroscope[0,:] # Yaw\n",
        "# y_gyro = orientation_gyroscope[2,:] # Pitch\n",
        "# x_gyro = orientation_gyroscope[1,:] # Roll\n",
        "\n",
        "# w_measured = np.row_stack((np.zeros_like(x_gyro),x_gyro,y_gyro,z_gyro))\n",
        "\n",
        "# quat_rate = np.zeros((4,orientation_gyroscope.shape[1]))\n",
        "# normalized_quat = np.zeros((4,orientation_gyroscope.shape[1]))\n",
        "# quat_rate[:,0] = orientation_gyroscope_quat\n",
        "# normalized_quat[:,0] = quat_rate[:,0]/np.linalg.norm(orientation_gyroscope_quat)\n",
        "\n",
        "\n",
        "\n",
        "\n",
        "\n",
        "\n",
        "# for i in range(1, orientation_gyroscope.shape[1]):\n",
        "#   normalized_quat = (0.5)*(quaternion_multiplication(normalized_vector(q_est[:,i]),\n",
        "\n",
        "\n",
        "\n",
        "\n",
        "# normalized_quat = np.zeros((4,orientation_gyroscope.shape[1]))\n",
        "# for i in range(orientation_gyroscope_quat.shape[1]):\n",
        "#   normalized_quat[:,i] = orientation_gyroscope_quat[:,i]/np.linalg.norm(orientation_gyroscope_quat[:,i])\n",
        "\n",
        "# quat_rate = np.zeros((4,orientation_gyroscope.shape[1]))\n",
        "# for i in range(1, orientation_gyroscope_quat.shape[1]):\n",
        "#     quat_rate[:,i] = (0.5)*(quaternion_multiplication(normalized_quat[:,i-1], w_measured[:,i]))\n",
        "\n"
      ],
      "metadata": {
        "id": "CrBnUFJ1bqKa"
      },
      "execution_count": 47,
      "outputs": []
    },
    {
      "cell_type": "code",
      "source": [
        "euler_angles_initial = euler_angles_vicon1[:,0][:,np.newaxis]\n",
        "orientation_gyroscope = orientation_gyro(euler_angles_initial,w_new1,ts_imu1)\n",
        "orientation_gyroscope = np.row_stack((np.zeros_like(orientation_gyroscope[0,:]),orientation_gyroscope))\n",
        "\n",
        "q_hat_est = np.zeros((4,orientation_gyroscope.shape[1]))\n",
        "qw_dot = np.zeros((4,orientation_gyroscope.shape[1]))\n",
        "J_transpose = np.zeros((4,orientation_gyroscope.shape[1]))\n",
        "f = np.zeros((4,orientation_gyroscope.shape[1]))\n",
        "grad_desc = np.zeros((4,orientation_gyroscope.shape[1]))\n",
        "qest_dot = np.zeros((4,orientation_gyroscope.shape[1]))\n",
        "q_next_est = np.zeros((4,orientation_gyroscope.shape[1]))\n",
        "\n",
        "q_hat_est[:,0] = np.array([1, 0, 0, 0])\n",
        "\n",
        "for i in range(1, orientation_gyroscope.shape[1]):\n",
        "  qw_dot[:,i] = (0.5)*quaternion_multiplication(normalized_vector(q_hat_est[:,i-1]),orientation_gyroscope[:,i])\n",
        "  J_transpose[:,i] = np.array([[-2*q_hat_est[2,i], 2*q_hat_est[1,i], 0],\n",
        "                   [2*q_hat_est[3,i], 2*q_hat_est[0,i], -4*q_hat_est[1,i]],\n",
        "                   [-2*q_hat_est[0,i], 2*q_hat_est[3,i], -4*q_hat_est[2,i]],\n",
        "                   [2*q_hat_est[1,i], 2*q_hat_est[2,i], 0]])\n",
        "  f[:,i] = np.array([2*((q_hat_est[1,i]*q_hat_est[3,i])-(q_hat_est[0,i]*q_hat_est[2,i]))-ax_new1[:,i]],\n",
        "                    [2*((q_hat_est[0,i]*q_hat_est[1,i])+(q_hat_est[2,i]*q_hat_est[3,i]))-ay_new1[:,i]],\n",
        "                    [2*(0.5-(q_hat_est[1,i]**2)-(q_hat_est[2,i]**2))-az_new1[:,i]])\n",
        "  grad_desc[:,i] = -0.6*normalized_vector(f[:,i])\n",
        "  qest_dot[:,i] = qw_dot[:,i] + grad_desc[:,i]\n",
        "  q_next_est[:,i] = qest_dot[:,i] + qest_dot[:,i]*(ts_imu1[:,i]-ts_imu1[:,i-1])\n",
        "  q_hat_est[:,i] = q_next_est[:,i]\n",
        "\n",
        "\n",
        "\n",
        "\n",
        ""
      ],
      "metadata": {
        "colab": {
          "base_uri": "https://localhost:8080/",
          "height": 245
        },
        "id": "Q93Y-RZymUBw",
        "outputId": "23613850-bae2-4e13-f7db-82ad68ad1287"
      },
      "execution_count": 76,
      "outputs": [
        {
          "output_type": "error",
          "ename": "ValueError",
          "evalue": "ignored",
          "traceback": [
            "\u001b[0;31m---------------------------------------------------------------------------\u001b[0m",
            "\u001b[0;31mValueError\u001b[0m                                Traceback (most recent call last)",
            "\u001b[0;32m<ipython-input-76-790d98048a64>\u001b[0m in \u001b[0;36m<cell line: 15>\u001b[0;34m()\u001b[0m\n\u001b[1;32m     15\u001b[0m \u001b[0;32mfor\u001b[0m \u001b[0mi\u001b[0m \u001b[0;32min\u001b[0m \u001b[0mrange\u001b[0m\u001b[0;34m(\u001b[0m\u001b[0;36m1\u001b[0m\u001b[0;34m,\u001b[0m \u001b[0morientation_gyroscope\u001b[0m\u001b[0;34m.\u001b[0m\u001b[0mshape\u001b[0m\u001b[0;34m[\u001b[0m\u001b[0;36m1\u001b[0m\u001b[0;34m]\u001b[0m\u001b[0;34m)\u001b[0m\u001b[0;34m:\u001b[0m\u001b[0;34m\u001b[0m\u001b[0;34m\u001b[0m\u001b[0m\n\u001b[1;32m     16\u001b[0m   \u001b[0mqw_dot\u001b[0m\u001b[0;34m[\u001b[0m\u001b[0;34m:\u001b[0m\u001b[0;34m,\u001b[0m\u001b[0mi\u001b[0m\u001b[0;34m]\u001b[0m \u001b[0;34m=\u001b[0m \u001b[0;34m(\u001b[0m\u001b[0;36m0.5\u001b[0m\u001b[0;34m)\u001b[0m\u001b[0;34m*\u001b[0m\u001b[0mquaternion_multiplication\u001b[0m\u001b[0;34m(\u001b[0m\u001b[0mnormalized_vector\u001b[0m\u001b[0;34m(\u001b[0m\u001b[0mq_hat_est\u001b[0m\u001b[0;34m[\u001b[0m\u001b[0;34m:\u001b[0m\u001b[0;34m,\u001b[0m\u001b[0mi\u001b[0m\u001b[0;34m-\u001b[0m\u001b[0;36m1\u001b[0m\u001b[0;34m]\u001b[0m\u001b[0;34m)\u001b[0m\u001b[0;34m,\u001b[0m\u001b[0morientation_gyroscope\u001b[0m\u001b[0;34m[\u001b[0m\u001b[0;34m:\u001b[0m\u001b[0;34m,\u001b[0m\u001b[0mi\u001b[0m\u001b[0;34m]\u001b[0m\u001b[0;34m)\u001b[0m\u001b[0;34m\u001b[0m\u001b[0;34m\u001b[0m\u001b[0m\n\u001b[0;32m---> 17\u001b[0;31m   J_transpose[:,i] = np.array([[-2*q_hat_est[2,i], 2*q_hat_est[1,i], 0],\n\u001b[0m\u001b[1;32m     18\u001b[0m                    \u001b[0;34m[\u001b[0m\u001b[0;36m2\u001b[0m\u001b[0;34m*\u001b[0m\u001b[0mq_hat_est\u001b[0m\u001b[0;34m[\u001b[0m\u001b[0;36m3\u001b[0m\u001b[0;34m,\u001b[0m\u001b[0mi\u001b[0m\u001b[0;34m]\u001b[0m\u001b[0;34m,\u001b[0m \u001b[0;36m2\u001b[0m\u001b[0;34m*\u001b[0m\u001b[0mq_hat_est\u001b[0m\u001b[0;34m[\u001b[0m\u001b[0;36m0\u001b[0m\u001b[0;34m,\u001b[0m\u001b[0mi\u001b[0m\u001b[0;34m]\u001b[0m\u001b[0;34m,\u001b[0m \u001b[0;34m-\u001b[0m\u001b[0;36m4\u001b[0m\u001b[0;34m*\u001b[0m\u001b[0mq_hat_est\u001b[0m\u001b[0;34m[\u001b[0m\u001b[0;36m1\u001b[0m\u001b[0;34m,\u001b[0m\u001b[0mi\u001b[0m\u001b[0;34m]\u001b[0m\u001b[0;34m]\u001b[0m\u001b[0;34m,\u001b[0m\u001b[0;34m\u001b[0m\u001b[0;34m\u001b[0m\u001b[0m\n\u001b[1;32m     19\u001b[0m                    \u001b[0;34m[\u001b[0m\u001b[0;34m-\u001b[0m\u001b[0;36m2\u001b[0m\u001b[0;34m*\u001b[0m\u001b[0mq_hat_est\u001b[0m\u001b[0;34m[\u001b[0m\u001b[0;36m0\u001b[0m\u001b[0;34m,\u001b[0m\u001b[0mi\u001b[0m\u001b[0;34m]\u001b[0m\u001b[0;34m,\u001b[0m \u001b[0;36m2\u001b[0m\u001b[0;34m*\u001b[0m\u001b[0mq_hat_est\u001b[0m\u001b[0;34m[\u001b[0m\u001b[0;36m3\u001b[0m\u001b[0;34m,\u001b[0m\u001b[0mi\u001b[0m\u001b[0;34m]\u001b[0m\u001b[0;34m,\u001b[0m \u001b[0;34m-\u001b[0m\u001b[0;36m4\u001b[0m\u001b[0;34m*\u001b[0m\u001b[0mq_hat_est\u001b[0m\u001b[0;34m[\u001b[0m\u001b[0;36m2\u001b[0m\u001b[0;34m,\u001b[0m\u001b[0mi\u001b[0m\u001b[0;34m]\u001b[0m\u001b[0;34m]\u001b[0m\u001b[0;34m,\u001b[0m\u001b[0;34m\u001b[0m\u001b[0;34m\u001b[0m\u001b[0m\n",
            "\u001b[0;31mValueError\u001b[0m: could not broadcast input array from shape (4,3) into shape (4,)"
          ]
        }
      ]
    },
    {
      "cell_type": "code",
      "source": [
        "q_hat_est = np.zeros((4,orientation_gyroscope.shape[1]))\n",
        "q_hat_est[:,0] = np.array([1, 0, 0, 0])"
      ],
      "metadata": {
        "id": "Pc87BP-HrDtU"
      },
      "execution_count": 62,
      "outputs": []
    },
    {
      "cell_type": "code",
      "source": [
        "q_hat_est[0,0]"
      ],
      "metadata": {
        "colab": {
          "base_uri": "https://localhost:8080/"
        },
        "id": "Yr__7_N-rH6Q",
        "outputId": "d020ca6e-be20-4699-a400-c6292c3957bc"
      },
      "execution_count": 65,
      "outputs": [
        {
          "output_type": "execute_result",
          "data": {
            "text/plain": [
              "1.0"
            ]
          },
          "metadata": {},
          "execution_count": 65
        }
      ]
    },
    {
      "cell_type": "code",
      "source": [
        "nax_new1)"
      ],
      "metadata": {
        "colab": {
          "base_uri": "https://localhost:8080/"
        },
        "id": "npMAwdbJrKkw",
        "outputId": "0f6b6661-ce6b-4362-dc55-cc6296c40fa3"
      },
      "execution_count": 66,
      "outputs": [
        {
          "output_type": "execute_result",
          "data": {
            "text/plain": [
              "(5645,)"
            ]
          },
          "metadata": {},
          "execution_count": 66
        }
      ]
    },
    {
      "cell_type": "code",
      "source": [],
      "metadata": {
        "id": "Wn5aEL2qr7Ti"
      },
      "execution_count": null,
      "outputs": []
    }
  ]
}